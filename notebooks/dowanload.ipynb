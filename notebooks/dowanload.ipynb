{
 "cells": [
  {
   "cell_type": "code",
   "execution_count": 1,
   "metadata": {},
   "outputs": [],
   "source": [
    "from airflow_practice.download import download_file\n",
    "FILES = [\n",
    "    # 'CRNS0101-05-2020-AK_Aleknagik_1_NNE.txt',\n",
    "    # 'CRNS0101-05-2020-AK_Bethel_87_WNW.txt',\n",
    "    \"CRNS0101-05-2020-AK_Aleknagik_1_NNE.txt\",\n",
    "    \"CRNS0101-05-2020-AK_Cordova_14_ESE.txt\"\n",
    "]\n",
    "for filename in FILES:\n",
    "    download_file(filename)"
   ]
  }
 ],
 "metadata": {
  "kernelspec": {
   "display_name": ".venv",
   "language": "python",
   "name": "python3"
  },
  "language_info": {
   "codemirror_mode": {
    "name": "ipython",
    "version": 3
   },
   "file_extension": ".py",
   "mimetype": "text/x-python",
   "name": "python",
   "nbconvert_exporter": "python",
   "pygments_lexer": "ipython3",
   "version": "3.12.5"
  }
 },
 "nbformat": 4,
 "nbformat_minor": 2
}
